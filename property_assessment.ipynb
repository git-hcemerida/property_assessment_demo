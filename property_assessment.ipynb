{
 "cells": [
  {
   "cell_type": "markdown",
   "metadata": {},
   "source": [
    "<h2>Calculate the Slope Classes for the Property</h2>\n",
    "\n",
    "In this demo, we are tasked to provide a client the areas of their property that have a slope of:\n",
    "- less than 15 degrees\n",
    "\n",
    "We will be developing a web-based interactive map which can provide a better user experience for the client. \n",
    "\n",
    "First, let's load the slope raster and property boundaries, then reclassify the slope raster."
   ]
  },
  {
   "cell_type": "code",
   "execution_count": 1,
   "metadata": {},
   "outputs": [],
   "source": [
    "import fiona\n",
    "import numpy as np\n",
    "import rasterio\n",
    "from rasterio.mask import mask\n",
    "import geopandas as gpd\n",
    "import pandas as pd\n",
    "import os\n",
    "\n",
    "# Import geojson and clip raster\n",
    "geojson_path = os.path.join('geojson', 'test_dataset_4326.geojson')\n",
    "slope_raster = os.path.join('raster', 'slope_5m.tif')\n",
    "\n",
    "# Load geojson using fiona\n",
    "with fiona.open(geojson_path, 'r') as shape:\n",
    "    shapes = [feature['geometry'] for feature in shape]\n",
    "\n",
    "# Open slope raster and reclassify\n",
    "with rasterio.open(slope_raster) as src:\n",
    "    slope = src.read(1)\n",
    "    slope[np.where(slope<15)] = 1\n",
    "    slope[np.where(slope>=15)] = 2\n",
    "    src_profile = src.profile.copy()\n",
    "\n",
    "# Save to new file:\n",
    "with rasterio.open(os.path.join('out', 'reclass.tif'), 'w', **src_profile) as dst:\n",
    "    dst.write(slope, indexes=1)\n",
    "\n",
    "# Open reclassified raster and clip to geojson\n",
    "with rasterio.open(os.path.join('out', 'reclass.tif')) as src:\n",
    "    slope, transform = mask(src, shapes, crop=True, all_touched=True, filled=True)\n",
    "    new_profile = src.profile.copy()\n",
    "\n",
    "# Update profile to dimensions of masked raster\n",
    "new_profile.update({\n",
    "    'width': slope.shape[2],\n",
    "    'height': slope.shape[1],\n",
    "    'transform': transform,\n",
    "    'dtype': rasterio.uint8\n",
    "\n",
    "})\n",
    "\n",
    "# Save reclassified raster\n",
    "with rasterio.open(os.path.join('out', 'reclass_masked.tif'), 'w', **new_profile) as dst:\n",
    "    dst.write(slope)\n"
   ]
  },
  {
   "cell_type": "markdown",
   "metadata": {},
   "source": [
    "Next, we will create rasters that represent each slope class. First is where the slope is less than 15 degrees."
   ]
  },
  {
   "cell_type": "code",
   "execution_count": 2,
   "metadata": {},
   "outputs": [],
   "source": [
    "# Create new raster where the slope value is equal to 1\n",
    "with rasterio.open(os.path.join('out', 'reclass_masked.tif')) as src:\n",
    "    slope = src.read(1)\n",
    "    slope[np.where(slope!=1)] = 0\n",
    "    src_profile = src.profile.copy()\n",
    "\n",
    "    with rasterio.open(os.path.join('out', 'class1.tif'), 'w', **new_profile) as dst:\n",
    "        dst.write(slope, indexes=1) \n"
   ]
  },
  {
   "cell_type": "markdown",
   "metadata": {},
   "source": [
    "Then the slope where slope is greater than or equal to 15 degrees. "
   ]
  },
  {
   "cell_type": "code",
   "execution_count": 3,
   "metadata": {},
   "outputs": [],
   "source": [
    "# Create new raster where the slope value is equal to 2\n",
    "with rasterio.open(os.path.join('out', 'reclass_masked.tif')) as src:\n",
    "    slope = src.read(1)\n",
    "    slope[np.where(slope!=2)] = 0\n",
    "    slope[np.where(slope==2)] = 1\n",
    "    src_profile = src.profile.copy()\n",
    "\n",
    "    with rasterio.open(os.path.join('out', 'class2.tif'), 'w', **new_profile) as dst:\n",
    "        dst.write(slope, indexes=1) "
   ]
  },
  {
   "cell_type": "markdown",
   "metadata": {},
   "source": [
    "And a raster which represents the valid pixels, which represents the number of pixels available for each property boundary. This will be used to calculate the proportion of each class per boundary. "
   ]
  },
  {
   "cell_type": "code",
   "execution_count": 4,
   "metadata": {},
   "outputs": [],
   "source": [
    "# Create new raster containing the valid pixels\n",
    "with rasterio.open(os.path.join('out', 'reclass_masked.tif')) as src:\n",
    "    slope = src.read(1)\n",
    "    slope[np.where(slope>0)] = 1\n",
    "    src_profile = src.profile.copy()\n",
    "\n",
    "    with rasterio.open(os.path.join('out', 'valid_pixels.tif'), 'w', **new_profile) as dst:\n",
    "        dst.write(slope, indexes=1) "
   ]
  },
  {
   "cell_type": "markdown",
   "metadata": {},
   "source": [
    "Next, we will load the property boundaries."
   ]
  },
  {
   "cell_type": "code",
   "execution_count": 6,
   "metadata": {},
   "outputs": [],
   "source": [
    "# Read geojson using geopandas\n",
    "property_boundaries = gpd.read_file(geojson_path)\n",
    "property_boundaries = property_boundaries[['geometry', 'planlabel']]"
   ]
  },
  {
   "cell_type": "markdown",
   "metadata": {},
   "source": [
    "And calculate the number of pixels for each class per boundary as well as the number of valid pixels."
   ]
  },
  {
   "cell_type": "code",
   "execution_count": 7,
   "metadata": {},
   "outputs": [
    {
     "data": {
      "text/html": [
       "<div>\n",
       "<style scoped>\n",
       "    .dataframe tbody tr th:only-of-type {\n",
       "        vertical-align: middle;\n",
       "    }\n",
       "\n",
       "    .dataframe tbody tr th {\n",
       "        vertical-align: top;\n",
       "    }\n",
       "\n",
       "    .dataframe thead th {\n",
       "        text-align: right;\n",
       "    }\n",
       "</style>\n",
       "<table border=\"1\" class=\"dataframe\">\n",
       "  <thead>\n",
       "    <tr style=\"text-align: right;\">\n",
       "      <th></th>\n",
       "      <th>geometry</th>\n",
       "      <th>planlabel</th>\n",
       "      <th>low_slope</th>\n",
       "      <th>high_slope</th>\n",
       "      <th>valid_pixels</th>\n",
       "    </tr>\n",
       "  </thead>\n",
       "  <tbody>\n",
       "    <tr>\n",
       "      <th>0</th>\n",
       "      <td>MULTIPOLYGON (((149.02958 -32.55078, 149.02979...</td>\n",
       "      <td>DP835442</td>\n",
       "      <td>180066</td>\n",
       "      <td>22285</td>\n",
       "      <td>202351</td>\n",
       "    </tr>\n",
       "    <tr>\n",
       "      <th>1</th>\n",
       "      <td>MULTIPOLYGON (((149.04284 -32.57281, 149.05208...</td>\n",
       "      <td>DP784596</td>\n",
       "      <td>54975</td>\n",
       "      <td>60563</td>\n",
       "      <td>115538</td>\n",
       "    </tr>\n",
       "    <tr>\n",
       "      <th>2</th>\n",
       "      <td>MULTIPOLYGON (((149.05564 -32.56713, 149.05542...</td>\n",
       "      <td>DP827602</td>\n",
       "      <td>8365</td>\n",
       "      <td>17771</td>\n",
       "      <td>26136</td>\n",
       "    </tr>\n",
       "    <tr>\n",
       "      <th>3</th>\n",
       "      <td>MULTIPOLYGON (((149.06405 -32.57903, 149.06322...</td>\n",
       "      <td>DP750779</td>\n",
       "      <td>2136</td>\n",
       "      <td>5778</td>\n",
       "      <td>7914</td>\n",
       "    </tr>\n",
       "    <tr>\n",
       "      <th>4</th>\n",
       "      <td>MULTIPOLYGON (((149.06922 -32.5833, 149.06927 ...</td>\n",
       "      <td>DP875823</td>\n",
       "      <td>8755</td>\n",
       "      <td>13241</td>\n",
       "      <td>21996</td>\n",
       "    </tr>\n",
       "  </tbody>\n",
       "</table>\n",
       "</div>"
      ],
      "text/plain": [
       "                                            geometry planlabel  low_slope  \\\n",
       "0  MULTIPOLYGON (((149.02958 -32.55078, 149.02979...  DP835442     180066   \n",
       "1  MULTIPOLYGON (((149.04284 -32.57281, 149.05208...  DP784596      54975   \n",
       "2  MULTIPOLYGON (((149.05564 -32.56713, 149.05542...  DP827602       8365   \n",
       "3  MULTIPOLYGON (((149.06405 -32.57903, 149.06322...  DP750779       2136   \n",
       "4  MULTIPOLYGON (((149.06922 -32.5833, 149.06927 ...  DP875823       8755   \n",
       "\n",
       "   high_slope  valid_pixels  \n",
       "0       22285        202351  \n",
       "1       60563        115538  \n",
       "2       17771         26136  \n",
       "3        5778          7914  \n",
       "4       13241         21996  "
      ]
     },
     "execution_count": 7,
     "metadata": {},
     "output_type": "execute_result"
    }
   ],
   "source": [
    "# Open the rasters representating the classes and the valid pixels\n",
    "class1_raster = rasterio.open(os.path.join('out', 'class1.tif'))\n",
    "class2_raster = rasterio.open(os.path.join('out', 'class2.tif'))\n",
    "valid_raster = rasterio.open(os.path.join('out', 'valid_pixels.tif'))\n",
    "\n",
    "# Define a function that will calculate the statistic of the classes and the valid raster\n",
    "def calc_stats_class1(geom, data=class1_raster, **mask_kw):\n",
    "    masked, mask_transform = mask(dataset=data, shapes=(geom,),\n",
    "                                  crop=True, all_touched=True, filled=True)\n",
    "    return masked\n",
    "\n",
    "def calc_stats_class2(geom, data=class2_raster, **mask_kw):\n",
    "    masked, mask_transform = mask(dataset=data, shapes=(geom,),\n",
    "                                  crop=True, all_touched=True, filled=True)\n",
    "    return masked\n",
    "\n",
    "def calc_stats_valid(geom, data=valid_raster, **mask_kw):\n",
    "    masked, mask_transform = mask(dataset=data, shapes=(geom,),\n",
    "                                  crop=True, all_touched=True, filled=True)\n",
    "    return masked\n",
    "\n",
    "# Calculate the pixel sum per class and the total for each boundary\n",
    "# Generating a raster that represents valid pixels can serve as a better reference\n",
    "# as it is based on the raster data and not the sum of two columns\n",
    "property_boundaries['low_slope'] = property_boundaries.geometry.apply(calc_stats_class1).apply(np.sum)\n",
    "property_boundaries['high_slope'] = property_boundaries.geometry.apply(calc_stats_class2).apply(np.sum)\n",
    "property_boundaries['valid_pixels'] = property_boundaries.geometry.apply(calc_stats_valid).apply(np.sum)\n",
    "\n",
    "property_boundaries.head()"
   ]
  },
  {
   "cell_type": "markdown",
   "metadata": {},
   "source": [
    "Now, we can calculate the proportion of each class."
   ]
  },
  {
   "cell_type": "code",
   "execution_count": 8,
   "metadata": {},
   "outputs": [
    {
     "data": {
      "text/html": [
       "<div>\n",
       "<style scoped>\n",
       "    .dataframe tbody tr th:only-of-type {\n",
       "        vertical-align: middle;\n",
       "    }\n",
       "\n",
       "    .dataframe tbody tr th {\n",
       "        vertical-align: top;\n",
       "    }\n",
       "\n",
       "    .dataframe thead th {\n",
       "        text-align: right;\n",
       "    }\n",
       "</style>\n",
       "<table border=\"1\" class=\"dataframe\">\n",
       "  <thead>\n",
       "    <tr style=\"text-align: right;\">\n",
       "      <th></th>\n",
       "      <th>geometry</th>\n",
       "      <th>planlabel</th>\n",
       "      <th>low_slope</th>\n",
       "      <th>high_slope</th>\n",
       "      <th>valid_pixels</th>\n",
       "      <th>low_slope_proportion</th>\n",
       "      <th>high_slope_proportion</th>\n",
       "    </tr>\n",
       "  </thead>\n",
       "  <tbody>\n",
       "    <tr>\n",
       "      <th>0</th>\n",
       "      <td>MULTIPOLYGON (((149.02958 -32.55078, 149.02979...</td>\n",
       "      <td>DP835442</td>\n",
       "      <td>180066</td>\n",
       "      <td>22285</td>\n",
       "      <td>202351</td>\n",
       "      <td>88.99</td>\n",
       "      <td>11.01</td>\n",
       "    </tr>\n",
       "    <tr>\n",
       "      <th>1</th>\n",
       "      <td>MULTIPOLYGON (((149.04284 -32.57281, 149.05208...</td>\n",
       "      <td>DP784596</td>\n",
       "      <td>54975</td>\n",
       "      <td>60563</td>\n",
       "      <td>115538</td>\n",
       "      <td>47.58</td>\n",
       "      <td>52.42</td>\n",
       "    </tr>\n",
       "    <tr>\n",
       "      <th>2</th>\n",
       "      <td>MULTIPOLYGON (((149.05564 -32.56713, 149.05542...</td>\n",
       "      <td>DP827602</td>\n",
       "      <td>8365</td>\n",
       "      <td>17771</td>\n",
       "      <td>26136</td>\n",
       "      <td>32.01</td>\n",
       "      <td>67.99</td>\n",
       "    </tr>\n",
       "    <tr>\n",
       "      <th>3</th>\n",
       "      <td>MULTIPOLYGON (((149.06405 -32.57903, 149.06322...</td>\n",
       "      <td>DP750779</td>\n",
       "      <td>2136</td>\n",
       "      <td>5778</td>\n",
       "      <td>7914</td>\n",
       "      <td>26.99</td>\n",
       "      <td>73.01</td>\n",
       "    </tr>\n",
       "    <tr>\n",
       "      <th>4</th>\n",
       "      <td>MULTIPOLYGON (((149.06922 -32.5833, 149.06927 ...</td>\n",
       "      <td>DP875823</td>\n",
       "      <td>8755</td>\n",
       "      <td>13241</td>\n",
       "      <td>21996</td>\n",
       "      <td>39.80</td>\n",
       "      <td>60.20</td>\n",
       "    </tr>\n",
       "  </tbody>\n",
       "</table>\n",
       "</div>"
      ],
      "text/plain": [
       "                                            geometry planlabel  low_slope  \\\n",
       "0  MULTIPOLYGON (((149.02958 -32.55078, 149.02979...  DP835442     180066   \n",
       "1  MULTIPOLYGON (((149.04284 -32.57281, 149.05208...  DP784596      54975   \n",
       "2  MULTIPOLYGON (((149.05564 -32.56713, 149.05542...  DP827602       8365   \n",
       "3  MULTIPOLYGON (((149.06405 -32.57903, 149.06322...  DP750779       2136   \n",
       "4  MULTIPOLYGON (((149.06922 -32.5833, 149.06927 ...  DP875823       8755   \n",
       "\n",
       "   high_slope  valid_pixels  low_slope_proportion  high_slope_proportion  \n",
       "0       22285        202351                 88.99                  11.01  \n",
       "1       60563        115538                 47.58                  52.42  \n",
       "2       17771         26136                 32.01                  67.99  \n",
       "3        5778          7914                 26.99                  73.01  \n",
       "4       13241         21996                 39.80                  60.20  "
      ]
     },
     "execution_count": 8,
     "metadata": {},
     "output_type": "execute_result"
    }
   ],
   "source": [
    "# Calculate the proportion for each class\n",
    "property_boundaries['low_slope_proportion'] = round((property_boundaries['low_slope'] / property_boundaries['valid_pixels']) * 100, 2)\n",
    "property_boundaries['high_slope_proportion'] = round((property_boundaries['high_slope'] / property_boundaries['valid_pixels']) * 100, 2)\n",
    "\n",
    "property_boundaries.head()"
   ]
  },
  {
   "cell_type": "markdown",
   "metadata": {},
   "source": [
    "Let's select the relevant columns for export."
   ]
  },
  {
   "cell_type": "code",
   "execution_count": 9,
   "metadata": {},
   "outputs": [
    {
     "data": {
      "text/html": [
       "<div>\n",
       "<style scoped>\n",
       "    .dataframe tbody tr th:only-of-type {\n",
       "        vertical-align: middle;\n",
       "    }\n",
       "\n",
       "    .dataframe tbody tr th {\n",
       "        vertical-align: top;\n",
       "    }\n",
       "\n",
       "    .dataframe thead th {\n",
       "        text-align: right;\n",
       "    }\n",
       "</style>\n",
       "<table border=\"1\" class=\"dataframe\">\n",
       "  <thead>\n",
       "    <tr style=\"text-align: right;\">\n",
       "      <th></th>\n",
       "      <th>geometry</th>\n",
       "      <th>planlabel</th>\n",
       "      <th>low_slope_proportion</th>\n",
       "      <th>high_slope_proportion</th>\n",
       "    </tr>\n",
       "  </thead>\n",
       "  <tbody>\n",
       "    <tr>\n",
       "      <th>0</th>\n",
       "      <td>MULTIPOLYGON (((149.02958 -32.55078, 149.02979...</td>\n",
       "      <td>DP835442</td>\n",
       "      <td>88.99</td>\n",
       "      <td>11.01</td>\n",
       "    </tr>\n",
       "    <tr>\n",
       "      <th>1</th>\n",
       "      <td>MULTIPOLYGON (((149.04284 -32.57281, 149.05208...</td>\n",
       "      <td>DP784596</td>\n",
       "      <td>47.58</td>\n",
       "      <td>52.42</td>\n",
       "    </tr>\n",
       "    <tr>\n",
       "      <th>2</th>\n",
       "      <td>MULTIPOLYGON (((149.05564 -32.56713, 149.05542...</td>\n",
       "      <td>DP827602</td>\n",
       "      <td>32.01</td>\n",
       "      <td>67.99</td>\n",
       "    </tr>\n",
       "    <tr>\n",
       "      <th>3</th>\n",
       "      <td>MULTIPOLYGON (((149.06405 -32.57903, 149.06322...</td>\n",
       "      <td>DP750779</td>\n",
       "      <td>26.99</td>\n",
       "      <td>73.01</td>\n",
       "    </tr>\n",
       "    <tr>\n",
       "      <th>4</th>\n",
       "      <td>MULTIPOLYGON (((149.06922 -32.5833, 149.06927 ...</td>\n",
       "      <td>DP875823</td>\n",
       "      <td>39.80</td>\n",
       "      <td>60.20</td>\n",
       "    </tr>\n",
       "    <tr>\n",
       "      <th>5</th>\n",
       "      <td>MULTIPOLYGON (((149.05969 -32.55221, 149.05933...</td>\n",
       "      <td>DP1213407</td>\n",
       "      <td>78.44</td>\n",
       "      <td>21.56</td>\n",
       "    </tr>\n",
       "    <tr>\n",
       "      <th>6</th>\n",
       "      <td>MULTIPOLYGON (((149.06957 -32.57216, 149.07009...</td>\n",
       "      <td>DP827602</td>\n",
       "      <td>37.26</td>\n",
       "      <td>62.74</td>\n",
       "    </tr>\n",
       "  </tbody>\n",
       "</table>\n",
       "</div>"
      ],
      "text/plain": [
       "                                            geometry  planlabel  \\\n",
       "0  MULTIPOLYGON (((149.02958 -32.55078, 149.02979...   DP835442   \n",
       "1  MULTIPOLYGON (((149.04284 -32.57281, 149.05208...   DP784596   \n",
       "2  MULTIPOLYGON (((149.05564 -32.56713, 149.05542...   DP827602   \n",
       "3  MULTIPOLYGON (((149.06405 -32.57903, 149.06322...   DP750779   \n",
       "4  MULTIPOLYGON (((149.06922 -32.5833, 149.06927 ...   DP875823   \n",
       "5  MULTIPOLYGON (((149.05969 -32.55221, 149.05933...  DP1213407   \n",
       "6  MULTIPOLYGON (((149.06957 -32.57216, 149.07009...   DP827602   \n",
       "\n",
       "   low_slope_proportion  high_slope_proportion  \n",
       "0                 88.99                  11.01  \n",
       "1                 47.58                  52.42  \n",
       "2                 32.01                  67.99  \n",
       "3                 26.99                  73.01  \n",
       "4                 39.80                  60.20  \n",
       "5                 78.44                  21.56  \n",
       "6                 37.26                  62.74  "
      ]
     },
     "execution_count": 9,
     "metadata": {},
     "output_type": "execute_result"
    }
   ],
   "source": [
    "# Select relevant columns\n",
    "property_boundaries = property_boundaries[['geometry', 'planlabel', 'low_slope_proportion', 'high_slope_proportion']]\n",
    "property_boundaries"
   ]
  },
  {
   "cell_type": "markdown",
   "metadata": {},
   "source": [
    "Lastly, we should convert the reclassified raster to vector for easier loading and viewing for the interactive web map."
   ]
  },
  {
   "cell_type": "code",
   "execution_count": 10,
   "metadata": {},
   "outputs": [],
   "source": [
    "from rasterio.features import shapes\n",
    "from shapely.geometry import shape\n",
    "\n",
    "# Convert the raster to geojson\n",
    "with rasterio.open(os.path.join('out', 'reclass_masked.tif')) as src:\n",
    "    data = src.read(1, masked=True)\n",
    "    shape_gen = ((shape(z), x) for z, x in shapes(data, transform=src.transform))\n",
    "    class_gdf = gpd.GeoDataFrame(dict(zip([\"geometry\", \"class\"], zip(*shape_gen))), crs=src.crs)\n"
   ]
  },
  {
   "cell_type": "markdown",
   "metadata": {},
   "source": [
    "Save the files."
   ]
  },
  {
   "cell_type": "code",
   "execution_count": 11,
   "metadata": {},
   "outputs": [],
   "source": [
    "# Save files\n",
    "property_boundaries.to_file(os.path.join('geojson', 'property_boundaries.geojson'), driver='GeoJSON')\n",
    "class_gdf.to_file(os.path.join('geojson', 'class.geojson'), driver='GeoJSON')"
   ]
  },
  {
   "cell_type": "markdown",
   "metadata": {},
   "source": [
    "And that's it! Go to `folium_map.ipynb` to generate the interactive web map."
   ]
  }
 ],
 "metadata": {
  "kernelspec": {
   "display_name": "ml",
   "language": "python",
   "name": "python3"
  },
  "language_info": {
   "codemirror_mode": {
    "name": "ipython",
    "version": 3
   },
   "file_extension": ".py",
   "mimetype": "text/x-python",
   "name": "python",
   "nbconvert_exporter": "python",
   "pygments_lexer": "ipython3",
   "version": "3.12.7"
  }
 },
 "nbformat": 4,
 "nbformat_minor": 2
}
